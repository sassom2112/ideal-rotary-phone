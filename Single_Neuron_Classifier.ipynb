{
  "nbformat": 4,
  "nbformat_minor": 0,
  "metadata": {
    "colab": {
      "provenance": [],
      "authorship_tag": "ABX9TyNB5lPzL3yOUPmJCEbpffrK",
      "include_colab_link": true
    },
    "kernelspec": {
      "name": "python3",
      "display_name": "Python 3"
    },
    "language_info": {
      "name": "python"
    }
  },
  "cells": [
    {
      "cell_type": "markdown",
      "metadata": {
        "id": "view-in-github",
        "colab_type": "text"
      },
      "source": [
        "<a href=\"https://colab.research.google.com/github/sassom2112/ideal-rotary-phone/blob/master/Single_Neuron_Classifier.ipynb\" target=\"_parent\"><img src=\"https://colab.research.google.com/assets/colab-badge.svg\" alt=\"Open In Colab\"/></a>"
      ]
    },
    {
      "cell_type": "markdown",
      "source": [
        "Imports"
      ],
      "metadata": {
        "id": "0p8vXS2gMrh0"
      }
    },
    {
      "cell_type": "code",
      "execution_count": 1,
      "metadata": {
        "id": "AZJdzbhy-RAr"
      },
      "outputs": [],
      "source": [
        "import pandas as pd\n",
        "import numpy as np\n",
        "import matplotlib.pyplot as plt"
      ]
    },
    {
      "cell_type": "markdown",
      "source": [
        "Loading Datasets"
      ],
      "metadata": {
        "id": "bCsB6Ba3MvpV"
      }
    },
    {
      "cell_type": "code",
      "source": [
        "from google.colab import files\n",
        "uploaded = files.upload()"
      ],
      "metadata": {
        "colab": {
          "base_uri": "https://localhost:8080/",
          "height": 108
        },
        "id": "wGeaHa48-eMZ",
        "outputId": "dc0853f5-197f-4a3a-aedd-1504056600a3"
      },
      "execution_count": 2,
      "outputs": [
        {
          "output_type": "display_data",
          "data": {
            "text/plain": [
              "<IPython.core.display.HTML object>"
            ],
            "text/html": [
              "\n",
              "     <input type=\"file\" id=\"files-94a0a9ea-67b7-4bf6-8cc9-5b47f23ea5bc\" name=\"files[]\" multiple disabled\n",
              "        style=\"border:none\" />\n",
              "     <output id=\"result-94a0a9ea-67b7-4bf6-8cc9-5b47f23ea5bc\">\n",
              "      Upload widget is only available when the cell has been executed in the\n",
              "      current browser session. Please rerun this cell to enable.\n",
              "      </output>\n",
              "      <script>// Copyright 2017 Google LLC\n",
              "//\n",
              "// Licensed under the Apache License, Version 2.0 (the \"License\");\n",
              "// you may not use this file except in compliance with the License.\n",
              "// You may obtain a copy of the License at\n",
              "//\n",
              "//      http://www.apache.org/licenses/LICENSE-2.0\n",
              "//\n",
              "// Unless required by applicable law or agreed to in writing, software\n",
              "// distributed under the License is distributed on an \"AS IS\" BASIS,\n",
              "// WITHOUT WARRANTIES OR CONDITIONS OF ANY KIND, either express or implied.\n",
              "// See the License for the specific language governing permissions and\n",
              "// limitations under the License.\n",
              "\n",
              "/**\n",
              " * @fileoverview Helpers for google.colab Python module.\n",
              " */\n",
              "(function(scope) {\n",
              "function span(text, styleAttributes = {}) {\n",
              "  const element = document.createElement('span');\n",
              "  element.textContent = text;\n",
              "  for (const key of Object.keys(styleAttributes)) {\n",
              "    element.style[key] = styleAttributes[key];\n",
              "  }\n",
              "  return element;\n",
              "}\n",
              "\n",
              "// Max number of bytes which will be uploaded at a time.\n",
              "const MAX_PAYLOAD_SIZE = 100 * 1024;\n",
              "\n",
              "function _uploadFiles(inputId, outputId) {\n",
              "  const steps = uploadFilesStep(inputId, outputId);\n",
              "  const outputElement = document.getElementById(outputId);\n",
              "  // Cache steps on the outputElement to make it available for the next call\n",
              "  // to uploadFilesContinue from Python.\n",
              "  outputElement.steps = steps;\n",
              "\n",
              "  return _uploadFilesContinue(outputId);\n",
              "}\n",
              "\n",
              "// This is roughly an async generator (not supported in the browser yet),\n",
              "// where there are multiple asynchronous steps and the Python side is going\n",
              "// to poll for completion of each step.\n",
              "// This uses a Promise to block the python side on completion of each step,\n",
              "// then passes the result of the previous step as the input to the next step.\n",
              "function _uploadFilesContinue(outputId) {\n",
              "  const outputElement = document.getElementById(outputId);\n",
              "  const steps = outputElement.steps;\n",
              "\n",
              "  const next = steps.next(outputElement.lastPromiseValue);\n",
              "  return Promise.resolve(next.value.promise).then((value) => {\n",
              "    // Cache the last promise value to make it available to the next\n",
              "    // step of the generator.\n",
              "    outputElement.lastPromiseValue = value;\n",
              "    return next.value.response;\n",
              "  });\n",
              "}\n",
              "\n",
              "/**\n",
              " * Generator function which is called between each async step of the upload\n",
              " * process.\n",
              " * @param {string} inputId Element ID of the input file picker element.\n",
              " * @param {string} outputId Element ID of the output display.\n",
              " * @return {!Iterable<!Object>} Iterable of next steps.\n",
              " */\n",
              "function* uploadFilesStep(inputId, outputId) {\n",
              "  const inputElement = document.getElementById(inputId);\n",
              "  inputElement.disabled = false;\n",
              "\n",
              "  const outputElement = document.getElementById(outputId);\n",
              "  outputElement.innerHTML = '';\n",
              "\n",
              "  const pickedPromise = new Promise((resolve) => {\n",
              "    inputElement.addEventListener('change', (e) => {\n",
              "      resolve(e.target.files);\n",
              "    });\n",
              "  });\n",
              "\n",
              "  const cancel = document.createElement('button');\n",
              "  inputElement.parentElement.appendChild(cancel);\n",
              "  cancel.textContent = 'Cancel upload';\n",
              "  const cancelPromise = new Promise((resolve) => {\n",
              "    cancel.onclick = () => {\n",
              "      resolve(null);\n",
              "    };\n",
              "  });\n",
              "\n",
              "  // Wait for the user to pick the files.\n",
              "  const files = yield {\n",
              "    promise: Promise.race([pickedPromise, cancelPromise]),\n",
              "    response: {\n",
              "      action: 'starting',\n",
              "    }\n",
              "  };\n",
              "\n",
              "  cancel.remove();\n",
              "\n",
              "  // Disable the input element since further picks are not allowed.\n",
              "  inputElement.disabled = true;\n",
              "\n",
              "  if (!files) {\n",
              "    return {\n",
              "      response: {\n",
              "        action: 'complete',\n",
              "      }\n",
              "    };\n",
              "  }\n",
              "\n",
              "  for (const file of files) {\n",
              "    const li = document.createElement('li');\n",
              "    li.append(span(file.name, {fontWeight: 'bold'}));\n",
              "    li.append(span(\n",
              "        `(${file.type || 'n/a'}) - ${file.size} bytes, ` +\n",
              "        `last modified: ${\n",
              "            file.lastModifiedDate ? file.lastModifiedDate.toLocaleDateString() :\n",
              "                                    'n/a'} - `));\n",
              "    const percent = span('0% done');\n",
              "    li.appendChild(percent);\n",
              "\n",
              "    outputElement.appendChild(li);\n",
              "\n",
              "    const fileDataPromise = new Promise((resolve) => {\n",
              "      const reader = new FileReader();\n",
              "      reader.onload = (e) => {\n",
              "        resolve(e.target.result);\n",
              "      };\n",
              "      reader.readAsArrayBuffer(file);\n",
              "    });\n",
              "    // Wait for the data to be ready.\n",
              "    let fileData = yield {\n",
              "      promise: fileDataPromise,\n",
              "      response: {\n",
              "        action: 'continue',\n",
              "      }\n",
              "    };\n",
              "\n",
              "    // Use a chunked sending to avoid message size limits. See b/62115660.\n",
              "    let position = 0;\n",
              "    do {\n",
              "      const length = Math.min(fileData.byteLength - position, MAX_PAYLOAD_SIZE);\n",
              "      const chunk = new Uint8Array(fileData, position, length);\n",
              "      position += length;\n",
              "\n",
              "      const base64 = btoa(String.fromCharCode.apply(null, chunk));\n",
              "      yield {\n",
              "        response: {\n",
              "          action: 'append',\n",
              "          file: file.name,\n",
              "          data: base64,\n",
              "        },\n",
              "      };\n",
              "\n",
              "      let percentDone = fileData.byteLength === 0 ?\n",
              "          100 :\n",
              "          Math.round((position / fileData.byteLength) * 100);\n",
              "      percent.textContent = `${percentDone}% done`;\n",
              "\n",
              "    } while (position < fileData.byteLength);\n",
              "  }\n",
              "\n",
              "  // All done.\n",
              "  yield {\n",
              "    response: {\n",
              "      action: 'complete',\n",
              "    }\n",
              "  };\n",
              "}\n",
              "\n",
              "scope.google = scope.google || {};\n",
              "scope.google.colab = scope.google.colab || {};\n",
              "scope.google.colab._files = {\n",
              "  _uploadFiles,\n",
              "  _uploadFilesContinue,\n",
              "};\n",
              "})(self);\n",
              "</script> "
            ]
          },
          "metadata": {}
        },
        {
          "output_type": "stream",
          "name": "stdout",
          "text": [
            "Saving winequality-white.csv to winequality-white.csv\n",
            "Saving winequality-red.csv to winequality-red.csv\n"
          ]
        }
      ]
    },
    {
      "cell_type": "markdown",
      "source": [
        "+ Load datasets with correct delimiter\n",
        "+ Add a wine color column\n",
        "+ Concatenate the two datasets\n",
        "+ Seperate `Features` (X) and `Labels` (y)"
      ],
      "metadata": {
        "id": "vOdYHFolM3kC"
      }
    },
    {
      "cell_type": "code",
      "source": [
        "# Load the datasets with the correct delimiter\n",
        "red_wine = pd.read_csv('winequality-red.csv', delimiter=';')\n",
        "white_wine = pd.read_csv('winequality-white.csv', delimiter=';')\n",
        "\n",
        "# Add a 'wine_color' column (1 for red, 0 for white)\n",
        "red_wine['wine_color'] = 1\n",
        "white_wine['wine_color'] = 0\n",
        "\n",
        "# Concatenate the two datasets into one\n",
        "all_wine = pd.concat([red_wine, white_wine], ignore_index=True)\n",
        "\n",
        "\n",
        "# Separate features (X) and labels (y)\n",
        "X = all_wine.drop(columns=['wine_color'])  # Features\n",
        "y = all_wine['wine_color']  # Labels (1 for red, 0 for white)"
      ],
      "metadata": {
        "id": "DFgWy6FN-gza"
      },
      "execution_count": 6,
      "outputs": []
    },
    {
      "cell_type": "code",
      "source": [
        "def manual_train_test_split(X, y, test_size=0.2, shuffle=True):\n",
        "    # Convert Pandas DataFrames or Series to NumPy arrays\n",
        "    if isinstance(X, pd.DataFrame) or isinstance(X, pd.Series):\n",
        "        X = X.to_numpy()\n",
        "    if isinstance(y, pd.DataFrame) or isinstance(y, pd.Series):\n",
        "        y = y.to_numpy()\n",
        "\n",
        "    if X.shape[0] != y.shape[0]:\n",
        "        raise ValueError(\"Input and target arrays must have the same number of samples.\")\n",
        "    if shuffle:\n",
        "        indices = np.arange(X.shape[0])\n",
        "        np.random.shuffle(indices)\n",
        "        X = X[indices]\n",
        "        y = y[indices]\n",
        "\n",
        "    # Calculate the split index based on test_size\n",
        "    split_index = int(X.shape[0] * (1 - test_size))\n",
        "\n",
        "    # Split the data\n",
        "    X_train, X_test = X[:split_index], X[split_index:]\n",
        "    y_train, y_test = y[:split_index], y[split_index:]\n",
        "\n",
        "    return X_train, X_test, y_train, y_test\n",
        "\n",
        "# Example usage (assuming X and y are numpy arrays)\n",
        "X_train, X_test, y_train, y_test = manual_train_test_split(X, y, test_size=0.2)"
      ],
      "metadata": {
        "id": "DTWbWTS1-4fg"
      },
      "execution_count": 8,
      "outputs": []
    },
    {
      "cell_type": "code",
      "source": [
        "\n",
        "class SingleNeuronClassifier:\n",
        "    def __init__(self, num_features):\n",
        "        self.w = np.random.randn(num_features) * 0.01  # Initialize weights randomly\n",
        "        self.w_0 = 0.0  # Initialize bias term\n",
        "\n",
        "    def sigmoid(self, z):\n",
        "        # Clip values of z to prevent overflow in exp function\n",
        "        z = np.clip(z, -500, 500)\n",
        "        return 1 / (1 + np.exp(-z))  # Sigmoid activation function\n",
        "\n",
        "    def predict(self, x):\n",
        "        z = np.dot(x, self.w) + self.w_0  # Linear combination\n",
        "        return self.sigmoid(z)  # Apply sigmoid to get prediction\n",
        "\n",
        "    def train(self, X, y, epochs=100, learning_rate=0.01):\n",
        "        for epoch in range(epochs):\n",
        "            total_loss = 0\n",
        "            for x_i, y_i in zip(X, y):\n",
        "                y_pred = self.predict(x_i)\n",
        "\n",
        "                # Binary cross-entropy loss (log loss)\n",
        "                loss = -(y_i * np.log(y_pred + 1e-6) + (1 - y_i) * np.log(1 - y_pred + 1e-6))\n",
        "                total_loss += loss\n",
        "\n",
        "                # Gradient descent updates\n",
        "                gradient_w_0 = y_pred - y_i  # Gradient for bias\n",
        "                self.w_0 -= learning_rate * gradient_w_0  # Update bias term\n",
        "\n",
        "                gradient_w = (y_pred - y_i) * x_i  # Gradient for weights\n",
        "                self.w -= learning_rate * gradient_w  # Update weights\n",
        "\n",
        "            # Store loss for each epoch\n",
        "            loss_values.append(total_loss)\n",
        "\n",
        "            if epoch % 10 == 0:\n",
        "                print(f\"Epoch {epoch}, Loss: {total_loss}\")\n",
        "\n",
        "    def classify(self, x):\n",
        "        return 1 if self.predict(x) >= 0.5 else 0"
      ],
      "metadata": {
        "id": "ju05q7A__HJc"
      },
      "execution_count": 12,
      "outputs": []
    },
    {
      "cell_type": "code",
      "source": [
        "loss_values = []  # List to store loss values for each epoch\n",
        "\n",
        "# Train the model\n",
        "num_features = X_train.shape[1]\n",
        "single_neuron_classifier = SingleNeuronClassifier(num_features)\n",
        "single_neuron_classifier.train(X_train, y_train, epochs=300, learning_rate=0.01)\n",
        "\n",
        "# Evaluate the model on the test set\n",
        "correct = 0\n",
        "for x_i, y_i in zip(X_test, y_test):\n",
        "    prediction = single_neuron_classifier.classify(x_i)\n",
        "    if prediction == y_i:\n",
        "        correct += 1\n",
        "\n",
        "accuracy = correct / len(y_test)\n",
        "print(f\"Test Accuracy: {accuracy * 100:.2f}%\")\n",
        "\n",
        "# After training, plot the loss values\n",
        "plt.plot(loss_values)\n",
        "plt.title('Loss Over Epochs')\n",
        "plt.xlabel('Epoch')\n",
        "plt.ylabel('Loss')\n",
        "plt.show()"
      ],
      "metadata": {
        "colab": {
          "base_uri": "https://localhost:8080/",
          "height": 1000
        },
        "id": "afVOkh-G_NBU",
        "outputId": "653792e7-727c-4e5e-e660-ee80e31c7439"
      },
      "execution_count": 13,
      "outputs": [
        {
          "output_type": "stream",
          "name": "stdout",
          "text": [
            "Epoch 0, Loss: 7587.696361735888\n",
            "Epoch 10, Loss: 5706.495537461753\n",
            "Epoch 20, Loss: 5241.766705151192\n",
            "Epoch 30, Loss: 5069.740054219672\n",
            "Epoch 40, Loss: 4876.306009745006\n",
            "Epoch 50, Loss: 4650.771339356524\n",
            "Epoch 60, Loss: 4494.944426772084\n",
            "Epoch 70, Loss: 4412.665958195099\n",
            "Epoch 80, Loss: 4060.4572307719477\n",
            "Epoch 90, Loss: 4113.504814317497\n",
            "Epoch 100, Loss: 3955.035843530898\n",
            "Epoch 110, Loss: 4059.86143499861\n",
            "Epoch 120, Loss: 3916.3273770873047\n",
            "Epoch 130, Loss: 4022.3888330133827\n",
            "Epoch 140, Loss: 3788.18796802822\n",
            "Epoch 150, Loss: 3684.979258470011\n",
            "Epoch 160, Loss: 3577.120273947191\n",
            "Epoch 170, Loss: 3744.360195093518\n",
            "Epoch 180, Loss: 3495.2398286150355\n",
            "Epoch 190, Loss: 3224.7880726292533\n",
            "Epoch 200, Loss: 3507.490279988646\n",
            "Epoch 210, Loss: 3395.64382620267\n",
            "Epoch 220, Loss: 3264.24864441671\n",
            "Epoch 230, Loss: 3384.5058741340645\n",
            "Epoch 240, Loss: 3365.95812645236\n",
            "Epoch 250, Loss: 3459.480317514258\n",
            "Epoch 260, Loss: 3412.261216917786\n",
            "Epoch 270, Loss: 3260.7870156136455\n",
            "Epoch 280, Loss: 3377.6217307029574\n",
            "Epoch 290, Loss: 3316.9326812607546\n",
            "Test Accuracy: 96.85%\n"
          ]
        },
        {
          "output_type": "display_data",
          "data": {
            "text/plain": [
              "<Figure size 640x480 with 1 Axes>"
            ],
            "image/png": "[encoded data removed]"
          },
          "metadata": {}
        }
      ]
    }
  ]
}